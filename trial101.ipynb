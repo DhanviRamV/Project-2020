{
 "metadata": {
  "language_info": {
   "codemirror_mode": {
    "name": "ipython",
    "version": 3
   },
   "file_extension": ".py",
   "mimetype": "text/x-python",
   "name": "python",
   "nbconvert_exporter": "python",
   "pygments_lexer": "ipython3",
   "version": "3.7.4-final"
  },
  "orig_nbformat": 2,
  "kernelspec": {
   "name": "python_defaultSpec_1598537425011",
   "display_name": "Python 3.7.4 64-bit"
  }
 },
 "nbformat": 4,
 "nbformat_minor": 2,
 "cells": [
  {
   "cell_type": "code",
   "execution_count": 1,
   "metadata": {
    "tags": []
   },
   "outputs": [
    {
     "output_type": "execute_result",
     "data": {
      "text/plain": "                          0                                              6\n0  A:HIS367:HD1 - :U011:N16                     Conventional Hydrogen Bond\n1   A:HIS372:HD1 - :U011:F8  Conventional Hydrogen Bond;Halogen (Fluorine)\n2     :U011:H9 - A:GLN363:O                     Conventional Hydrogen Bond\n3    A:ASN407:CA - :U011:F9        Carbon Hydrogen Bond;Halogen (Fluorine)\n4     A:ILE406:O - :U011:F9                             Halogen (Fluorine)",
      "text/html": "<div>\n<style scoped>\n    .dataframe tbody tr th:only-of-type {\n        vertical-align: middle;\n    }\n\n    .dataframe tbody tr th {\n        vertical-align: top;\n    }\n\n    .dataframe thead th {\n        text-align: right;\n    }\n</style>\n<table border=\"1\" class=\"dataframe\">\n  <thead>\n    <tr style=\"text-align: right;\">\n      <th></th>\n      <th>0</th>\n      <th>6</th>\n    </tr>\n  </thead>\n  <tbody>\n    <tr>\n      <th>0</th>\n      <td>A:HIS367:HD1 - :U011:N16</td>\n      <td>Conventional Hydrogen Bond</td>\n    </tr>\n    <tr>\n      <th>1</th>\n      <td>A:HIS372:HD1 - :U011:F8</td>\n      <td>Conventional Hydrogen Bond;Halogen (Fluorine)</td>\n    </tr>\n    <tr>\n      <th>2</th>\n      <td>:U011:H9 - A:GLN363:O</td>\n      <td>Conventional Hydrogen Bond</td>\n    </tr>\n    <tr>\n      <th>3</th>\n      <td>A:ASN407:CA - :U011:F9</td>\n      <td>Carbon Hydrogen Bond;Halogen (Fluorine)</td>\n    </tr>\n    <tr>\n      <th>4</th>\n      <td>A:ILE406:O - :U011:F9</td>\n      <td>Halogen (Fluorine)</td>\n    </tr>\n  </tbody>\n</table>\n</div>"
     },
     "metadata": {},
     "execution_count": 1
    }
   ],
   "source": [
    "import pandas as pd\n",
    "\n",
    "fname = input(\"Enter the filename:\")\n",
    "df = pd.read_excel(fname+\".xlsx\", header = None, usecols = [0, 6])\n",
    "df.head()"
   ]
  },
  {
   "cell_type": "code",
   "execution_count": 5,
   "metadata": {
    "tags": []
   },
   "outputs": [
    {
     "output_type": "stream",
     "name": "stdout",
     "text": "A:GLN363\n"
    }
   ],
   "source": [
    "import re\n",
    "resname = df[0][2]\n",
    "resname = re.findall(\"A:[A-Z0-9]+\", resname)\n",
    "print(resname[0])"
   ]
  },
  {
   "cell_type": "code",
   "execution_count": null,
   "metadata": {},
   "outputs": [],
   "source": [
    "for i in range(len(df)):\n",
    "    resname = df[0][i]\n",
    "    loc = resname.find(\"A:\")\n",
    "    if loc == None:\n",
    "        continue\n",
    "    resname = resname[loc+2:loc+8]"
   ]
  },
  {
   "cell_type": "code",
   "execution_count": 1,
   "metadata": {
    "tags": []
   },
   "outputs": [
    {
     "output_type": "stream",
     "name": "stdout",
     "text": "The mappings have been written as testoutput.xlsx file in the directory\n"
    }
   ],
   "source": [
    "import pandas as pd\n",
    "\n",
    "fname = input(\"Enter the filename:\")\n",
    "df = pd.read_excel(fname+\".xlsx\", header = None, usecols = [0, 6])\n",
    "list = []\n",
    "for i in range(len(df)):\n",
    "    resname = df[0][i]\n",
    "    loc = resname.find(\"A:\")\n",
    "    if loc == None:\n",
    "        continue\n",
    "    resname = resname[loc+2:loc+8]\n",
    "    inttype = df[6][i]\n",
    "    symloc = inttype.find(\";\")\n",
    "    if symloc != -1:\n",
    "        inttype = inttype[:symloc]\n",
    "    templist = [inttype, resname, 1]\n",
    "    list.append(templist)\n",
    "mapdf = pd.DataFrame(list)\n",
    "transmap = mapdf.T\n",
    "transmap.to_excel(fname+\"output.xlsx\", index = False, header = False)\n",
    "print(\"The mappings have been written as\", fname + \"output.xlsx file in the directory\")"
   ]
  },
  {
   "cell_type": "code",
   "execution_count": null,
   "metadata": {},
   "outputs": [],
   "source": [
    "x = 'vivek'\n",
    "y = x.find('d')\n",
    "print(y)"
   ]
  },
  {
   "cell_type": "code",
   "execution_count": null,
   "metadata": {},
   "outputs": [],
   "source": []
  }
 ]
}